{
 "metadata": {
  "language_info": {
   "codemirror_mode": {
    "name": "ipython",
    "version": 3
   },
   "file_extension": ".py",
   "mimetype": "text/x-python",
   "name": "python",
   "nbconvert_exporter": "python",
   "pygments_lexer": "ipython3",
   "version": "3.8.8-final"
  },
  "orig_nbformat": 2,
  "kernelspec": {
   "name": "python3",
   "display_name": "Python 3.8.8 64-bit (conda)",
   "metadata": {
    "interpreter": {
     "hash": "5f3104d7129d76525f7b54724ecbeac3244740a7115449bb486926611051b661"
    }
   }
  }
 },
 "nbformat": 4,
 "nbformat_minor": 2,
 "cells": [
  {
   "source": [
    "Root sqlite db methods & functions test."
   ],
   "cell_type": "markdown",
   "metadata": {}
  },
  {
   "cell_type": "code",
   "execution_count": 1,
   "metadata": {},
   "outputs": [],
   "source": [
    "import sys \n",
    "sys.path.append('..')\n",
    "import sqlite_basic_orm\n",
    "db = sqlite_basic_orm.SQLiteDB('./db_files/chinook.db')\n",
    "db_e = sqlite_basic_orm.SQLiteDB('./db_files/empty.db')\n",
    "db_o = sqlite_basic_orm.SQLiteDB('./db_files/onetable.db')\n",
    "db_t = sqlite_basic_orm.SQLiteDB('./db_files/testtable.db')\n"
   ]
  },
  {
   "source": [
    "# execute test 0 - forced errors\n",
    "print('+report')\n",
    "print(db.sqlite_execute('SELECT names FROM artists;'), '\\n') \n",
    "print(db.sqlite_execute('CREATE TABLE new1 (col1 TEXT NOT NUL);'), '\\n')\n",
    "print(db.sqlite_execute('CREATE TABLE new2 (col1 INTEGER NOT NULL) WITHOUT ROWID; '), '\\n')\n",
    "print('-report')\n",
    "print(db.sqlite_execute('SELECT names FROM artists;', print_report=False), '\\n') \n",
    "print(db.sqlite_execute('CREATE TABLE new1 (col1 TEXT NOT NUL);', print_report=False), '\\n')\n",
    "print(db.sqlite_execute('CREATE TABLE new2 (col1 INTEGER NOT NULL) WITHOUT ROWID; ', print_report=False), '\\n')"
   ],
   "cell_type": "code",
   "metadata": {},
   "execution_count": 2,
   "outputs": [
    {
     "output_type": "stream",
     "name": "stdout",
     "text": [
      "+report\nERROR: sqlite_basic_orm.execute. no such column: names\n\nCheck statement:\n----------------\nSELECT names FROM artists;\nNone \n\nERROR: sqlite_basic_orm.execute. table new1 already exists\n\nCheck statement:\n----------------\nCREATE TABLE new1 (col1 TEXT NOT NUL);\nNone \n\nERROR: sqlite_basic_orm.execute. PRIMARY KEY missing on table new2\n\nCheck statement:\n----------------\nCREATE TABLE new2 (col1 INTEGER NOT NULL) WITHOUT ROWID; \nNone \n\n-report\nERROR: sqlite_basic_orm.execute. no such column: names\nNone \n\nERROR: sqlite_basic_orm.execute. table new1 already exists\nNone \n\nERROR: sqlite_basic_orm.execute. PRIMARY KEY missing on table new2\nNone \n\n"
     ]
    }
   ]
  },
  {
   "cell_type": "code",
   "execution_count": 3,
   "metadata": {},
   "outputs": [
    {
     "output_type": "stream",
     "name": "stdout",
     "text": [
      "--table creation\n",
      "SUCCESS: sqlite_basic_orm.execute.\n",
      "['exec_1col', 'exec_3cols', 'sqlite_sequence'] \n",
      "\n",
      "CREATE TABLE exec_3cols (col1 INTEGER PRIMARY KEY AUTOINCREMENT,\n",
      "    col2 TEXT NOT NULL,\n",
      "    col3 TEXT INTEGER DEFAULT 0\n",
      "    ) \n",
      "\n"
     ]
    }
   ],
   "source": [
    "# execute test 1 - tables creation\n",
    "print('--table creation')\n",
    "st1 = '''CREATE TABLE exec_1col (col1 INTEGER NOT NULL\n",
    "    );'''\n",
    "st3 = '''CREATE TABLE exec_3cols (col1 INTEGER PRIMARY KEY AUTOINCREMENT,\n",
    "    col2 TEXT NOT NULL,\n",
    "    col3 TEXT INTEGER DEFAULT 0\n",
    "    );'''\n",
    "db_t.sqlite_execute(st1, print_report=False)\n",
    "db_t.sqlite_execute(st3, print_report=True)\n",
    "print(db_t.sqlite_tables(), '\\n')\n",
    "print(db_t.sqlite_schema('exec_3cols'), '\\n')"
   ]
  },
  {
   "cell_type": "code",
   "execution_count": 4,
   "metadata": {},
   "outputs": [
    {
     "output_type": "stream",
     "name": "stdout",
     "text": [
      "SUCCESS: sqlite_basic_orm.execute.\n",
      "[] \n",
      "\n",
      "SUCCESS: sqlite_basic_orm.execute.\n",
      "SUCCESS: sqlite_basic_orm.execute.\n",
      "SUCCESS: sqlite_basic_orm.execute.\n",
      "SUCCESS: sqlite_basic_orm.execute.\n",
      "SUCCESS: sqlite_basic_orm.execute.\n",
      "SUCCESS: sqlite_basic_orm.execute.\n",
      "SUCCESS: sqlite_basic_orm.execute.\n",
      "[1, 2, 3, 4, 5, 6, 7, 8, 9, 10, 11, 12] \n",
      "\n"
     ]
    }
   ],
   "source": [
    "# execute test 2 - insert into 1 col\n",
    "print(db_t.sqlite_execute('SELECT * FROM exec_1col'), '\\n') # empty\n",
    "db_t.sqlite_execute('''INSERT INTO exec_1col (col1) VALUES (1);''')\n",
    "db_t.sqlite_execute('INSERT INTO exec_1col (col1) VALUES (?);', 2)\n",
    "db_t.sqlite_execute('INSERT INTO exec_1col (col1) VALUES (?);',[3])\n",
    "db_t.sqlite_execute('INSERT INTO exec_1col (col1) VALUES (?);',[4,5,6])\n",
    "db_t.sqlite_execute('INSERT INTO exec_1col (col1) VALUES (?);',[(7,),(8,),(9,)])\n",
    "db_t.sqlite_execute('INSERT INTO exec_1col (col1) VALUES (?);',((10,),[11],[12],))\n",
    "print(db_t.sqlite_execute('SELECT * FROM exec_1col'), '\\n')"
   ]
  },
  {
   "cell_type": "code",
   "execution_count": 5,
   "metadata": {},
   "outputs": [
    {
     "output_type": "stream",
     "name": "stdout",
     "text": [
      "SUCCESS: sqlite_basic_orm.execute.\n",
      "[] \n",
      "\n",
      "ERROR: sqlite_basic_orm.execute. Incorrect number of bindings supplied. The current statement uses 2, and there are 3 supplied.\n",
      "\n",
      "Check statement:\n",
      "----------------\n",
      "INSERT INTO exec_3cols (col2, col3) VALUES (?,?);\n",
      "SUCCESS: sqlite_basic_orm.execute.\n",
      "SUCCESS: sqlite_basic_orm.execute.\n",
      "SUCCESS: sqlite_basic_orm.execute.\n",
      "SUCCESS: sqlite_basic_orm.execute.\n",
      "SUCCESS: sqlite_basic_orm.execute.\n",
      "SUCCESS: sqlite_basic_orm.execute.\n",
      "SUCCESS: sqlite_basic_orm.execute.\n",
      "[[1, 'i', 1], [2, 'a', 1], [3, 'b', 2], [4, 'c', 3], [5, 'd', 4], [6, 'e', 5], [7, 'f', 6], [8, 'g', 7], [9, 'h', 8]] \n",
      "\n"
     ]
    }
   ],
   "source": [
    "# execute test 3 - insert into 3 cols\n",
    "print(db_t.sqlite_execute('SELECT * FROM exec_3cols'), '\\n')\n",
    "db_t.sqlite_execute('INSERT INTO exec_3cols (col2, col3) VALUES (?,?);', [-1,-2,-3]) # forced ERROR\n",
    "db_t.sqlite_execute('''INSERT INTO exec_3cols (col1, col2, col3) VALUES (1, 'i', 1);''')\n",
    "db_t.sqlite_execute('''INSERT INTO exec_3cols (col2, col3) VALUES ('a', 1);''')\n",
    "db_t.sqlite_execute('INSERT INTO exec_3cols (col2, col3) VALUES (?,?);', ['b',2])\n",
    "db_t.sqlite_execute('INSERT INTO exec_3cols (col2, col3) VALUES (?,?);',('c',3,))\n",
    "db_t.sqlite_execute('INSERT INTO exec_3cols (col2, col3) VALUES (?,?);',[['d',4],['e',5]])\n",
    "db_t.sqlite_execute('INSERT INTO exec_3cols (col2, col3) VALUES (?,?);',[('f',6,),('g',7,),('h',8,)])\n",
    "print(db_t.sqlite_execute('SELECT * FROM exec_3cols'), '\\n')"
   ]
  },
  {
   "cell_type": "code",
   "execution_count": 6,
   "metadata": {},
   "outputs": [
    {
     "output_type": "stream",
     "name": "stdout",
     "text": [
      "SUCCESS: sqlite_basic_orm.execute.\n",
      "[1, 2, 3, 4, 5, 6, 7, 8, 9, 10, 11, 12] \n",
      "\n",
      "SUCCESS: sqlite_basic_orm.insert. Added rows: 1/1\n",
      "SUCCESS: sqlite_basic_orm.insert. Added rows: 1/1\n",
      "SUCCESS: sqlite_basic_orm.insert. Added rows: 2/2\n",
      "SUCCESS: sqlite_basic_orm.insert. Added rows: 2/2\n",
      "SUCCESS: sqlite_basic_orm.execute.\n",
      "[1, 2, 3, 4, 5, 6, 7, 8, 9, 10, 11, 12, 13, 14, 15, 16, 17, 18, 19] \n",
      "\n"
     ]
    }
   ],
   "source": [
    "# insert test 1 - insert into 1 col\n",
    "print(db_t.sqlite_execute('SELECT * FROM exec_1col'), '\\n')\n",
    "db_t.sqlite_insert('exec_1col','col1',13, print_report=True)\n",
    "db_t.sqlite_insert('exec_1col','col1',14, print_report=False)\n",
    "db_t.sqlite_insert('exec_1col','col1',[15])\n",
    "db_t.sqlite_insert('exec_1col','col1',[16,17])\n",
    "db_t.sqlite_insert('exec_1col','col1',[[18],(19,)])\n",
    "print(db_t.sqlite_execute('SELECT * FROM exec_1col'), '\\n')"
   ]
  },
  {
   "cell_type": "code",
   "execution_count": 7,
   "metadata": {},
   "outputs": [
    {
     "output_type": "stream",
     "name": "stdout",
     "text": [
      "SUCCESS: sqlite_basic_orm.execute.\n",
      "[[1, 'i', 1], [2, 'a', 1], [3, 'b', 2], [4, 'c', 3], [5, 'd', 4], [6, 'e', 5], [7, 'f', 6], [8, 'g', 7], [9, 'h', 8]] \n",
      "\n",
      "ERROR: sqlite_basic_orm.insert. NOT NULL constraint failed: exec_3cols.col2\n",
      "\n",
      "Check statement:\n",
      "----------------\n",
      "INSERT INTO exec_3cols (col3)\n",
      "VALUES(?)\n",
      "ERROR: sqlite_basic_orm.insert. Incorrect number of bindings supplied. The current statement uses 2, and there are 1 supplied.\n",
      "\n",
      "Check statement:\n",
      "----------------\n",
      "INSERT INTO exec_3cols (col2, col3)\n",
      "VALUES(?,?)\n",
      "SUCCESS: sqlite_basic_orm.insert. Added rows: 1/2\n",
      "SUCCESS: sqlite_basic_orm.insert. Added rows: 2/1\n",
      "SUCCESS: sqlite_basic_orm.insert. Added rows: 3/3\n",
      "SUCCESS: sqlite_basic_orm.execute.\n",
      "[[1, 'i', 1], [2, 'a', 1], [3, 'b', 2], [4, 'c', 3], [5, 'd', 4], [6, 'e', 5], [7, 'f', 6], [8, 'g', 7], [9, 'h', 8], [10, 'i', 9], [11, 'j', 10], [12, 'k', 11], [13, 'l', 12], [14, 'm', 13], [15, 'n', 14]] \n",
      "\n"
     ]
    }
   ],
   "source": [
    "# insert test 2 - insert into 3 cols\n",
    "print(db_t.sqlite_execute('SELECT * FROM exec_3cols;'), '\\n')\n",
    "db_t.sqlite_insert('exec_3cols',['col3'],0) # forced ERROR\n",
    "db_t.sqlite_insert('exec_3cols',['col2','col3'],[1]) # forced ERROR\n",
    "db_t.sqlite_insert('exec_3cols',['col2','col3'],['i',9])\n",
    "db_t.sqlite_insert('exec_3cols',['col2','col3'],[['j',10],['k',11]])\n",
    "db_t.sqlite_insert('exec_3cols',['col2','col3'],[('l',12,),('m',13,),('n',14,)])\n",
    "print(db_t.sqlite_execute('SELECT * FROM exec_3cols;'), '\\n')"
   ]
  },
  {
   "cell_type": "code",
   "execution_count": 8,
   "metadata": {},
   "outputs": [
    {
     "output_type": "stream",
     "name": "stdout",
     "text": [
      "SUCCESS: sqlite_basic_orm.create_table.\n",
      "SUCCESS: sqlite_basic_orm.insert. Added rows: 1/2\n",
      "SUCCESS: sqlite_basic_orm.execute.\n",
      "['a', 1] \n",
      "\n",
      "ERROR: sqlite_basic_orm.insert. UNIQUE constraint failed: repl.col1\n",
      "\n",
      "Check statement:\n",
      "----------------\n",
      "INSERT INTO repl (col1, col2)\n",
      "VALUES(?,?)\n",
      "SUCCESS: sqlite_basic_orm.execute.\n",
      "['a', 1] \n",
      "\n",
      "SUCCESS: sqlite_basic_orm.insert. Added rows: 0/2\n",
      "SUCCESS: sqlite_basic_orm.execute.\n",
      "['a', 2] \n",
      "\n"
     ]
    }
   ],
   "source": [
    "# insert test 3 - replace\n",
    "db_t.sqlite_create_table('repl',['col1 TEXT', 'col2 UNTEGER'], unique='col1')\n",
    "db_t.sqlite_insert('repl',['col1','col2'],['a',1])\n",
    "print(db_t.sqlite_execute('SELECT * FROM repl;'), '\\n')\n",
    "db_t.sqlite_insert('repl',['col1','col2'],['a',2]) # forced ERROR\n",
    "print(db_t.sqlite_execute('SELECT * FROM repl;'), '\\n')\n",
    "db_t.sqlite_insert('repl',['col1','col2'],['a',2],replace=True)\n",
    "print(db_t.sqlite_execute('SELECT * FROM repl;'), '\\n')"
   ]
  },
  {
   "cell_type": "code",
   "execution_count": 9,
   "metadata": {},
   "outputs": [
    {
     "output_type": "stream",
     "name": "stdout",
     "text": [
      "-list -prettify\nSUCCESS: sqlite_basic_orm.execute.\n[(4, 'Restless and Wild'), (32, 'Deuces Are Wild'), (775, 'Call Of The Wild'), (2697, 'I Go Wild')] \n\nSUCCESS: sqlite_basic_orm.execute.\n[('For Those About To Rock We Salute You', 'AC/DC'), ('Balls to the Wall', 'Accept'), ('Restless and Wild', 'Accept'), ('Let There Be Rock', 'AC/DC'), ('Big Ones', 'Aerosmith')] \n\nSUCCESS: sqlite_basic_orm.execute.\n[('Spellbound', 270863, 8817038, 1), ('Snowballed', 203102, 6599424, 1), ('Put The Finger On You', 205662, 6713451, 1), ('Night Of The Long Knives', 205688, 6706347, 1), (\"Let's Get It Up\", 233926, 7636561, 1)] \n\n+list -prettify\nSUCCESS: sqlite_basic_orm.execute.\n[[4, 'Restless and Wild'], [32, 'Deuces Are Wild'], [775, 'Call Of The Wild'], [2697, 'I Go Wild']] \n\nSUCCESS: sqlite_basic_orm.execute.\n[['For Those About To Rock We Salute You', 'AC/DC'], ['Balls to the Wall', 'Accept'], ['Restless and Wild', 'Accept'], ['Let There Be Rock', 'AC/DC'], ['Big Ones', 'Aerosmith']] \n\nSUCCESS: sqlite_basic_orm.execute.\n[['Spellbound', 270863, 8817038, 1], ['Snowballed', 203102, 6599424, 1], ['Put The Finger On You', 205662, 6713451, 1], ['Night Of The Long Knives', 205688, 6706347, 1], [\"Let's Get It Up\", 233926, 7636561, 1]] \n\n-list +prettify\nSUCCESS: sqlite_basic_orm.execute.\n[(4, 'Restless and Wild'), (32, 'Deuces Are Wild'), (775, 'Call Of The Wild'), (2697, 'I Go Wild')] \n\nSUCCESS: sqlite_basic_orm.execute.\n[('For Those About To Rock We Salute You', 'AC/DC'), ('Balls to the Wall', 'Accept'), ('Restless and Wild', 'Accept'), ('Let There Be Rock', 'AC/DC'), ('Big Ones', 'Aerosmith')] \n\nSUCCESS: sqlite_basic_orm.execute.\n[('Spellbound', 270863, 8817038, 1), ('Snowballed', 203102, 6599424, 1), ('Put The Finger On You', 205662, 6713451, 1), ('Night Of The Long Knives', 205688, 6706347, 1), (\"Let's Get It Up\", 233926, 7636561, 1)] \n\n+list +prettify\nSUCCESS: sqlite_basic_orm.execute.\n[[4, 'Restless and Wild'], [32, 'Deuces Are Wild'], [775, 'Call Of The Wild'], [2697, 'I Go Wild']] \n\nSUCCESS: sqlite_basic_orm.execute.\n[['For Those About To Rock We Salute You', 'AC/DC'], ['Balls to the Wall', 'Accept'], ['Restless and Wild', 'Accept'], ['Let There Be Rock', 'AC/DC'], ['Big Ones', 'Aerosmith']] \n\nSUCCESS: sqlite_basic_orm.execute.\n[['Spellbound', 270863, 8817038, 1], ['Snowballed', 203102, 6599424, 1], ['Put The Finger On You', 205662, 6713451, 1], ['Night Of The Long Knives', 205688, 6706347, 1], [\"Let's Get It Up\", 233926, 7636561, 1]] \n\n"
     ]
    }
   ],
   "source": [
    "# execute test 4 - misc & lists-prettify\n",
    "db_st1 = '''SELECT trackid, name\n",
    "            FROM tracks \n",
    "            WHERE name LIKE '%Wild';'''\n",
    "db_st2 = '''SELECT Title, Name\n",
    "            FROM albums\n",
    "            INNER JOIN artists \n",
    "            ON artists.ArtistId = albums.ArtistId\n",
    "            LIMIT 5;'''\n",
    "db_st3 = '''SELECT name, milliseconds, bytes, albumid\n",
    "            FROM tracks\n",
    "            WHERE albumid = 1\n",
    "            ORDER BY name DESC\n",
    "            LIMIT 5;'''\n",
    "\n",
    "print('-list -prettify')\n",
    "print(db.sqlite_execute(db_st1, return_list=False, prettify_output=False), '\\n')\n",
    "print(db.sqlite_execute(db_st2, return_list=False, prettify_output=False), '\\n')\n",
    "print(db.sqlite_execute(db_st3, return_list=False, prettify_output=False), '\\n')\n",
    "print('+list -prettify')\n",
    "print(db.sqlite_execute(db_st1, return_list=True, prettify_output=False), '\\n')\n",
    "print(db.sqlite_execute(db_st2, return_list=True, prettify_output=False), '\\n')\n",
    "print(db.sqlite_execute(db_st3, return_list=True, prettify_output=False), '\\n')\n",
    "print('-list +prettify')\n",
    "print(db.sqlite_execute(db_st1, return_list=False, prettify_output=True), '\\n')\n",
    "print(db.sqlite_execute(db_st2, return_list=False, prettify_output=True), '\\n')\n",
    "print(db.sqlite_execute(db_st3, return_list=False, prettify_output=True), '\\n')\n",
    "print('+list +prettify')\n",
    "print(db.sqlite_execute(db_st1, return_list=True, prettify_output=True), '\\n')\n",
    "print(db.sqlite_execute(db_st2, return_list=True, prettify_output=True), '\\n')\n",
    "print(db.sqlite_execute(db_st3, return_list=True, prettify_output=True), '\\n')\n",
    "\n"
   ]
  },
  {
   "cell_type": "code",
   "execution_count": 10,
   "metadata": {},
   "outputs": [
    {
     "output_type": "stream",
     "name": "stdout",
     "text": [
      "-list -prettify\nSUCCESS: sqlite_basic_orm.execute.\n[('Spellbound', 270863, 8817038, 1)] \n\nSUCCESS: sqlite_basic_orm.execute.\n[('Spellbound',), ('Snowballed',), ('Put The Finger On You',), ('Night Of The Long Knives',), (\"Let's Get It Up\",)] \n\nSUCCESS: sqlite_basic_orm.execute.\n[('Spellbound',)] \n\n+list -prettify\nSUCCESS: sqlite_basic_orm.execute.\n[['Spellbound', 270863, 8817038, 1]] \n\nSUCCESS: sqlite_basic_orm.execute.\n[['Spellbound'], ['Snowballed'], ['Put The Finger On You'], ['Night Of The Long Knives'], [\"Let's Get It Up\"]] \n\nSUCCESS: sqlite_basic_orm.execute.\n[['Spellbound']] \n\n-list +prettify\nSUCCESS: sqlite_basic_orm.execute.\n('Spellbound', 270863, 8817038, 1) \n\nSUCCESS: sqlite_basic_orm.execute.\n['Spellbound', 'Snowballed', 'Put The Finger On You', 'Night Of The Long Knives', \"Let's Get It Up\"] \n\nSUCCESS: sqlite_basic_orm.execute.\n('Spellbound',) \n\n+list +prettify\nSUCCESS: sqlite_basic_orm.execute.\n['Spellbound', 270863, 8817038, 1] \n\nSUCCESS: sqlite_basic_orm.execute.\n['Spellbound', 'Snowballed', 'Put The Finger On You', 'Night Of The Long Knives', \"Let's Get It Up\"] \n\nSUCCESS: sqlite_basic_orm.execute.\n['Spellbound'] \n\n"
     ]
    }
   ],
   "source": [
    "# execute test 5 - lists-prettify\n",
    "db_st4 = '''SELECT name, milliseconds, bytes, albumid\n",
    "            FROM tracks\n",
    "            WHERE albumid = 1\n",
    "            ORDER BY name DESC\n",
    "            LIMIT 1;'''\n",
    "\n",
    "db_st5 = '''SELECT name\n",
    "            FROM tracks\n",
    "            WHERE albumid = 1\n",
    "            ORDER BY name DESC\n",
    "            LIMIT 5;'''\n",
    "\n",
    "db_st6 = '''SELECT name\n",
    "            FROM tracks\n",
    "            WHERE albumid = 1\n",
    "            ORDER BY name DESC\n",
    "            LIMIT 1;'''\n",
    "\n",
    "print('-list -prettify')\n",
    "print(db.sqlite_execute(db_st4, return_list=False, prettify_output=False), '\\n')\n",
    "print(db.sqlite_execute(db_st5, return_list=False, prettify_output=False), '\\n')\n",
    "print(db.sqlite_execute(db_st6, return_list=False, prettify_output=False), '\\n')\n",
    "print('+list -prettify')\n",
    "print(db.sqlite_execute(db_st4, return_list=True, prettify_output=False), '\\n')\n",
    "print(db.sqlite_execute(db_st5, return_list=True, prettify_output=False), '\\n')\n",
    "print(db.sqlite_execute(db_st6, return_list=True, prettify_output=False), '\\n')\n",
    "print('-list +prettify')\n",
    "print(db.sqlite_execute(db_st4, return_list=False, prettify_output=True), '\\n')\n",
    "print(db.sqlite_execute(db_st5, return_list=False, prettify_output=True), '\\n')\n",
    "print(db.sqlite_execute(db_st6, return_list=False, prettify_output=True), '\\n')\n",
    "print('+list +prettify')\n",
    "print(db.sqlite_execute(db_st4, return_list=True, prettify_output=True), '\\n')\n",
    "print(db.sqlite_execute(db_st5, return_list=True, prettify_output=True), '\\n')\n",
    "print(db.sqlite_execute(db_st6, return_list=True, prettify_output=True), '\\n')"
   ]
  },
  {
   "cell_type": "code",
   "execution_count": 11,
   "metadata": {},
   "outputs": [
    {
     "output_type": "stream",
     "name": "stdout",
     "text": [
      "--chinook\n",
      "[('albums',), ('sqlite_sequence',), ('artists',), ('customers',), ('employees',), ('genres',), ('invoices',), ('invoice_items',), ('media_types',), ('playlists',), ('playlist_track',), ('tracks',), ('sqlite_stat1',), ('new1',)] \n",
      "\n",
      "['albums', 'sqlite_sequence', 'artists', 'customers', 'employees', 'genres', 'invoices', 'invoice_items', 'media_types', 'playlists', 'playlist_track', 'tracks', 'sqlite_stat1', 'new1'] \n",
      "\n",
      "--empty\n",
      "[] \n",
      "\n",
      "[] \n",
      "\n",
      "--onetable\n",
      "[('the_only_table',)] \n",
      "\n",
      "('the_only_table',) \n",
      "\n"
     ]
    }
   ],
   "source": [
    "# tables test\n",
    "print('--chinook')\n",
    "print(db.sqlite_tables(prettify_output=False), '\\n')\n",
    "print(db.sqlite_tables(prettify_output=True), '\\n')\n",
    "print('--empty')\n",
    "print(db_e.sqlite_tables(prettify_output=False), '\\n')\n",
    "print(db_e.sqlite_tables(prettify_output=True), '\\n')\n",
    "print('--onetable')\n",
    "print(db_o.sqlite_tables(prettify_output=False), '\\n')\n",
    "print(db_o.sqlite_tables(prettify_output=True), '\\n')"
   ]
  },
  {
   "cell_type": "code",
   "execution_count": 12,
   "metadata": {},
   "outputs": [
    {
     "output_type": "stream",
     "name": "stdout",
     "text": [
      "--chinook\n",
      "[]\n",
      "[]\n",
      "[(0, 'ArtistId', 'INTEGER', 1, None, 1), (1, 'Name', 'NVARCHAR(120)', 0, None, 0)] \n",
      "\n",
      "[(0, 'ArtistId', 'INTEGER', 1, None, 1), (1, 'Name', 'NVARCHAR(120)', 0, None, 0)] \n",
      "\n"
     ]
    }
   ],
   "source": [
    "# table_info test\n",
    "print('--chinook')\n",
    "print(db.sqlite_table_info([1,2,3], '\\n'))\n",
    "print(db.sqlite_table_info('no table', '\\n'))\n",
    "print(db.sqlite_table_info('artists', prettify_output=False), '\\n')\n",
    "print(db.sqlite_table_info('artists', prettify_output=True), '\\n')"
   ]
  },
  {
   "cell_type": "code",
   "execution_count": 13,
   "metadata": {},
   "outputs": [
    {
     "output_type": "stream",
     "name": "stdout",
     "text": [
      "None \n\nNone \n\n('CREATE TABLE \"albums\"\\r\\n(\\r\\n    [AlbumId] INTEGER PRIMARY KEY AUTOINCREMENT NOT NULL,\\r\\n    [Title] NVARCHAR(160)  NOT NULL,\\r\\n    [ArtistId] INTEGER  NOT NULL,\\r\\n    FOREIGN KEY ([ArtistId]) REFERENCES \"artists\" ([ArtistId]) \\r\\n\\t\\tON DELETE NO ACTION ON UPDATE NO ACTION\\r\\n)',) \n\nCREATE TABLE \"albums\"\n(\n    [AlbumId] INTEGER PRIMARY KEY AUTOINCREMENT NOT NULL,\n    [Title] NVARCHAR(160)  NOT NULL,\n    [ArtistId] INTEGER  NOT NULL,\n    FOREIGN KEY ([ArtistId]) REFERENCES \"artists\" ([ArtistId]) \n\t\tON DELETE NO ACTION ON UPDATE NO ACTION\n) \n\n"
     ]
    }
   ],
   "source": [
    "# schema test\n",
    "print(db.sqlite_schema([1,2,3], prettify_output=False), '\\n')\n",
    "print(db.sqlite_schema('no table', prettify_output=False), '\\n')\n",
    "print(db.sqlite_schema('albums', prettify_output=False), '\\n')\n",
    "print(db.sqlite_schema('albums', prettify_output=True), '\\n')"
   ]
  },
  {
   "cell_type": "code",
   "execution_count": 14,
   "metadata": {},
   "outputs": [
    {
     "output_type": "stream",
     "name": "stdout",
     "text": [
      "['exec_1col', 'exec_3cols', 'sqlite_sequence', 'repl'] \n",
      "\n",
      "SUCCESS: sqlite_basic_orm.create_table.\n",
      "['exec_1col', 'exec_3cols', 'sqlite_sequence', 'repl', 'sha512'] \n",
      "\n",
      "CREATE TABLE sha512 (id_sha INTEGER,\n",
      "\tsha TEXT NOT NULL,\n",
      "\tsha_fast TEXT NOT NULL,\n",
      "\tsize INTEGER NOT NULL,\n",
      "\tstatus TEXT,\n",
      "\tcomment TEXT,\n",
      "\tUNIQUE (sha, sha_fast, size),\n",
      "\tPRIMARY KEY (id_sha)\n",
      ") \n",
      "\n",
      "[(0, 'id_sha', 'INTEGER', 0, None, 1), (1, 'sha', 'TEXT', 1, None, 0), (2, 'sha_fast', 'TEXT', 1, None, 0), (3, 'size', 'INTEGER', 1, None, 0), (4, 'status', 'TEXT', 0, None, 0), (5, 'comment', 'TEXT', 0, None, 0)] \n",
      "\n",
      "SUCCESS: sqlite_basic_orm.create_table.\n",
      "['exec_1col', 'exec_3cols', 'sqlite_sequence', 'repl', 'sha512', 'sha256'] \n",
      "\n",
      "CREATE TABLE sha256 (id_sha INTEGER,\n",
      "\tsha TEXT NOT NULL,\n",
      "\tsize INTEGER NOT NULL,\n",
      "\tstatus TEXT DEFAULT active,\n",
      "\tcomment TEXT,\n",
      "\tUNIQUE (sha),\n",
      "\tPRIMARY KEY (id_sha),\n",
      "\tFOREIGN KEY (id_sha) \n",
      "\t\tREFERENCES sha512 (id_sha)\n",
      ") \n",
      "\n",
      "[(0, 'id_sha', 'INTEGER', 0, None, 1), (1, 'sha', 'TEXT', 1, None, 0), (2, 'size', 'INTEGER', 1, None, 0), (3, 'status', 'TEXT', 0, 'active', 0), (4, 'comment', 'TEXT', 0, None, 0)] \n",
      "\n",
      "SUCCESS: sqlite_basic_orm.create_table.\n",
      "['exec_1col', 'exec_3cols', 'sqlite_sequence', 'repl', 'sha512', 'sha256', 'sha256x2'] \n",
      "\n",
      "CREATE TABLE sha256x2 (id_sha INTEGER,\n",
      "\tsha TEXT NOT NULL,\n",
      "\tsize INTEGER DEFAULT 0,\n",
      "\tPRIMARY KEY (id_sha, sha),\n",
      "\tFOREIGN KEY (id_sha) \n",
      "\t\tREFERENCES sha512 (id_sha),\n",
      "\tFOREIGN KEY (sha) \n",
      "\t\tREFERENCES sha256 (sha)\n",
      "\t\tON UPDATE CASCADE\n",
      ") \n",
      "\n",
      "[(0, 'id_sha', 'INTEGER', 0, None, 1), (1, 'sha', 'TEXT', 1, None, 2), (2, 'size', 'INTEGER', 0, '0', 0)] \n",
      "\n"
     ]
    }
   ],
   "source": [
    "# create table test\n",
    "print(db_t.sqlite_tables(), '\\n')\n",
    "db_t.sqlite_create_table('sha512',['id_sha INTEGER','sha TEXT NOT NULL','sha_fast TEXT NOT NULL', 'size INTEGER NOT NULL', 'status TEXT','comment TEXT'],\n",
    "    primary_key='id_sha',unique=['sha','sha_fast','size'])\n",
    "print(db_t.sqlite_tables(), '\\n')\n",
    "print(db_t.sqlite_schema('sha512'), '\\n')\n",
    "print(db_t.sqlite_table_info('sha512'), '\\n')\n",
    "\n",
    "db_t.sqlite_create_table('sha256',['id_sha INTEGER','sha TEXT NOT NULL', 'size INTEGER NOT NULL', 'status TEXT DEFAULT active','comment TEXT'],\n",
    "    primary_key='id_sha',unique=['sha'], foreign_key=['id_sha', 'sha512', 'id_sha'])\n",
    "print(db_t.sqlite_tables(), '\\n')\n",
    "print(db_t.sqlite_schema('sha256'), '\\n')\n",
    "print(db_t.sqlite_table_info('sha256'), '\\n')\n",
    "\n",
    "db_t.sqlite_create_table('sha256x2',['id_sha INTEGER','sha TEXT NOT NULL', 'size INTEGER DEFAULT 0'],\n",
    "    primary_key=['id_sha','sha'], foreign_key=[['id_sha', 'sha512', 'id_sha'],['sha','sha256','sha', 'ON UPDATE CASCADE']])\n",
    "print(db_t.sqlite_tables(), '\\n')\n",
    "print(db_t.sqlite_schema('sha256x2'), '\\n')\n",
    "print(db_t.sqlite_table_info('sha256x2'), '\\n')"
   ]
  },
  {
   "cell_type": "code",
   "execution_count": 15,
   "metadata": {},
   "outputs": [
    {
     "output_type": "stream",
     "name": "stdout",
     "text": [
      "ERROR: sqlite_basic_orm.drop_table. no such table: no_table\n",
      "ERROR: sqlite_basic_orm.drop_table. near \"13\": syntax error\n",
      "['exec_1col', 'exec_3cols', 'sqlite_sequence', 'repl', 'sha512', 'sha256', 'sha256x2'] \n",
      "\n",
      "SUCCESS: sha512 was dropped.\n",
      "['exec_1col', 'exec_3cols', 'sqlite_sequence', 'repl', 'sha256', 'sha256x2'] \n",
      "\n",
      "SUCCESS: sha256x2 was dropped.\n",
      "['exec_1col', 'exec_3cols', 'sqlite_sequence', 'repl', 'sha256'] \n",
      "\n",
      "ERROR: sqlite_basic_orm.drop_table. no such table: no_table\n",
      "['exec_3cols', 'sqlite_sequence', 'repl'] \n",
      "\n"
     ]
    }
   ],
   "source": [
    "# drop table test\n",
    "db_t.sqlite_drop_table('no_table') # forced ERROR\n",
    "db_t.sqlite_drop_table(13) # forced ERROR\n",
    "print(db_t.sqlite_tables(), '\\n')\n",
    "db_t.sqlite_drop_table('sha512')\n",
    "print(db_t.sqlite_tables(), '\\n')\n",
    "db_t.sqlite_drop_table('sha256x2',disable_foreign_keys=True)\n",
    "print(db_t.sqlite_tables(), '\\n')\n",
    "db_t.sqlite_drop_table(['sha256','exec_1col','no_table']) # forced ERROR\n",
    "print(db_t.sqlite_tables(), '\\n')"
   ]
  },
  {
   "cell_type": "code",
   "execution_count": 16,
   "metadata": {},
   "outputs": [
    {
     "output_type": "stream",
     "name": "stdout",
     "text": [
      "SUCCESS: sqlite_basic_orm.create_table.\n",
      "CREATE TABLE column (col1 INTEGER PRIMARY KEY AUTOINCREMENT,\n",
      "\tcol2 TEXT\n",
      ")\n",
      "SUCCESS: Column(s) in column was added: ['col3 INTEGER']\n",
      "CREATE TABLE column (col1 INTEGER PRIMARY KEY AUTOINCREMENT,\n",
      "\tcol2 TEXT\n",
      ", col3 INTEGER)\n",
      "SUCCESS: sqlite_basic_orm.insert. Added rows: 4/4\n",
      "SUCCESS: sqlite_basic_orm.select.\n",
      "[[1, 'a', None], [2, 'b', None], [3, 'c', None], [4, 'd', None]]\n",
      "SUCCESS: sqlite_basic_orm.insert. Added rows: 1/1\n",
      "SUCCESS: sqlite_basic_orm.insert. Added rows: 2/1\n",
      "SUCCESS: sqlite_basic_orm.select.\n",
      "[[1, 'a', None], [2, 'b', None], [3, 'c', None], [4, 'd', None], [5, None, 0], [6, 'e', 1], [7, 'f', 2]]\n"
     ]
    }
   ],
   "source": [
    "# add column test\n",
    "db_t.sqlite_create_table('column',['col1 INTEGER PRIMARY KEY AUTOINCREMENT', 'col2 TEXT'])\n",
    "print(db_t.sqlite_schema('column'))\n",
    "db_t.sqlite_add_column('column',['col3 INTEGER'])\n",
    "print(db_t.sqlite_schema('column'))\n",
    "db_t.sqlite_insert('column', ['col2'],['a','b','c','d'])\n",
    "print(db_t.sqlite_select('column'))\n",
    "db_t.sqlite_insert('column',['col3'],[0])\n",
    "db_t.sqlite_insert('column',['col2','col3'],[['e',1],['f',2]])\n",
    "print(db_t.sqlite_select('column'))"
   ]
  },
  {
   "cell_type": "code",
   "execution_count": 17,
   "metadata": {},
   "outputs": [
    {
     "output_type": "stream",
     "name": "stdout",
     "text": [
      "SUCCESS: sqlite_basic_orm.create_table.\n",
      "SUCCESS: sqlite_basic_orm.create_table.\n",
      "['exec_3cols', 'sqlite_sequence', 'repl', 'column', 'old1', 'old2'] \n",
      "\n",
      "ERROR: sqlite_basic_orm.drop_table. no such table: no_name\n",
      "['exec_3cols', 'sqlite_sequence', 'repl', 'column', 'old1', 'old2'] \n",
      "\n",
      "SUCCESS: Tables exec_3cols was renamed at new_name\n",
      "['new_name', 'sqlite_sequence', 'repl', 'column', 'old1', 'old2'] \n",
      "\n",
      "SUCCESS: Tables ['old1', 'old2'] was renamed at ['new1', 'new2']\n",
      "['new_name', 'sqlite_sequence', 'repl', 'column', 'new1', 'new2'] \n",
      "\n"
     ]
    }
   ],
   "source": [
    "# rename table test\n",
    "db_t.sqlite_create_table('old1','col TEXT')\n",
    "db_t.sqlite_create_table('old2', 'col TEXT')\n",
    "\n",
    "print(db_t.sqlite_tables(), '\\n')\n",
    "db_t.sqlite_rename_table('no_name', 'new_name')\n",
    "print(db_t.sqlite_tables(), '\\n')\n",
    "db_t.sqlite_rename_table('exec_3cols', 'new_name')\n",
    "print(db_t.sqlite_tables(), '\\n')\n",
    "\n",
    "db_t.sqlite_rename_table(['old1','old2'], ['new1','new2'])\n",
    "print(db_t.sqlite_tables(), '\\n')"
   ]
  },
  {
   "cell_type": "code",
   "execution_count": 18,
   "metadata": {},
   "outputs": [
    {
     "output_type": "stream",
     "name": "stdout",
     "text": [
      "SUCCESS: sqlite_basic_orm.create_table.\n",
      "['new_name', 'sqlite_sequence', 'repl', 'column', 'new1', 'new2', 'sha256'] \n",
      "\n",
      "CREATE TABLE sha256 (id_sha INTEGER,\n",
      "\tsha TEXT NOT NULL,\n",
      "\tsize INTEGER NOT NULL,\n",
      "\tstatus TEXT DEFAULT active,\n",
      "\tcomment TEXT,\n",
      "\tUNIQUE (sha),\n",
      "\tPRIMARY KEY (id_sha),\n",
      "\tFOREIGN KEY (id_sha) \n",
      "\t\tREFERENCES sha512 (id_sha)\n",
      ") \n",
      "\n",
      "[(0, 'id_sha', 'INTEGER', 0, None, 1), (1, 'sha', 'TEXT', 1, None, 0), (2, 'size', 'INTEGER', 1, None, 0), (3, 'status', 'TEXT', 0, 'active', 0), (4, 'comment', 'TEXT', 0, None, 0)] \n",
      "\n",
      "SUCCESS: sqlite_basic_orm.create_table.\n",
      "['new_name', 'sqlite_sequence', 'repl', 'column', 'new1', 'new2', 'sha256', 'sha256x2'] \n",
      "\n",
      "CREATE TABLE sha256x2 (id_sha INTEGER,\n",
      "\tsha TEXT NOT NULL,\n",
      "\tsize INTEGER DEFAULT 0,\n",
      "\tPRIMARY KEY (id_sha, sha),\n",
      "\tFOREIGN KEY (id_sha) \n",
      "\t\tREFERENCES sha512 (id_sha),\n",
      "\tFOREIGN KEY (sha) \n",
      "\t\tREFERENCES sha256 (sha)\n",
      "\t\tON UPDATE CASCADE\n",
      ") \n",
      "\n",
      "[(0, 'id_sha', 'INTEGER', 0, None, 1), (1, 'sha', 'TEXT', 1, None, 2), (2, 'size', 'INTEGER', 0, '0', 0)] \n",
      "\n"
     ]
    }
   ],
   "source": [
    "db_t.sqlite_create_table('sha256',['id_sha INTEGER','sha TEXT NOT NULL', 'size INTEGER NOT NULL', 'status TEXT DEFAULT active','comment TEXT'],\n",
    "    primary_key='id_sha',unique=['sha'], foreign_key=['id_sha', 'sha512', 'id_sha'])\n",
    "print(db_t.sqlite_tables(), '\\n')\n",
    "print(db_t.sqlite_schema('sha256'), '\\n')\n",
    "print(db_t.sqlite_table_info('sha256'), '\\n')\n",
    "\n",
    "db_t.sqlite_create_table('sha256x2',['id_sha INTEGER','sha TEXT NOT NULL', 'size INTEGER DEFAULT 0'],\n",
    "    primary_key=['id_sha','sha'], foreign_key=[['id_sha', 'sha512', 'id_sha'],['sha','sha256','sha', 'ON UPDATE CASCADE']])\n",
    "print(db_t.sqlite_tables(), '\\n')\n",
    "print(db_t.sqlite_schema('sha256x2'), '\\n')\n",
    "print(db_t.sqlite_table_info('sha256x2'), '\\n')"
   ]
  },
  {
   "cell_type": "code",
   "execution_count": 19,
   "metadata": {},
   "outputs": [
    {
     "output_type": "stream",
     "name": "stdout",
     "text": [
      "ERROR: sqlite_basic_orm.count_rows. no such table: no_table\nNone\n347\n0\n10\n"
     ]
    }
   ],
   "source": [
    "#  count rows test\n",
    "print(db.sqlite_count_rows('no_table'))\n",
    "print(db.sqlite_count_rows('albums'))\n",
    "print(db_o.sqlite_count_rows('the_only_table'))\n",
    "print(db.sqlite_count_rows('tracks',search_condition='albumid = 1'))"
   ]
  },
  {
   "cell_type": "code",
   "execution_count": 20,
   "metadata": {},
   "outputs": [
    {
     "output_type": "stream",
     "name": "stdout",
     "text": [
      "--report\n[[1, 'For Those About To Rock We Salute You', 1], [2, 'Balls to the Wall', 2], [3, 'Restless and Wild', 2], [4, 'Let There Be Rock', 1], [5, 'Big Ones', 3]]\nSUCCESS: sqlite_basic_orm.select.\n[[1, 'For Those About To Rock We Salute You', 1], [2, 'Balls to the Wall', 2], [3, 'Restless and Wild', 2], [4, 'Let There Be Rock', 1], [5, 'Big Ones', 3]]\n--prettify\n[[1, 'For Those About To Rock We Salute You', 1], [2, 'Balls to the Wall', 2], [3, 'Restless and Wild', 2], [4, 'Let There Be Rock', 1], [5, 'Big Ones', 3]]\n[[1, 'For Those About To Rock We Salute You', 1], [2, 'Balls to the Wall', 2], [3, 'Restless and Wild', 2], [4, 'Let There Be Rock', 1], [5, 'Big Ones', 3]]\n[[1, 'For Those About To Rock We Salute You', 1]]\n[1, 'For Those About To Rock We Salute You', 1]\n--to list\n[(1, 'For Those About To Rock We Salute You', 1), (2, 'Balls to the Wall', 2), (3, 'Restless and Wild', 2), (4, 'Let There Be Rock', 1), (5, 'Big Ones', 3)]\n[[1, 'For Those About To Rock We Salute You', 1], [2, 'Balls to the Wall', 2], [3, 'Restless and Wild', 2], [4, 'Let There Be Rock', 1], [5, 'Big Ones', 3]]\n[(1, 'For Those About To Rock We Salute You', 1)]\n[1, 'For Those About To Rock We Salute You', 1]\n-misc\nSUCCESS: sqlite_basic_orm.select.\n[[6, 'Antônio Carlos Jobim'], [7, 'Apocalyptica'], [8, 'Audioslave']]\nERROR: sqlite_basic_orm.select. no such table: no_table\n\nCheck statement:\n----------------\nSELECT DISTINCT title,\n\tname\nFROM artists\n\t INNER JOIN no_table ON artists.ArtistID = albums.ArtistID\nORDER BY name;\nNone\nSUCCESS: sqlite_basic_orm.select.\n[['Górecki: Symphony No. 3', 'Adrian Leaper & Doreen de Feis'], ['Big Ones', 'Aerosmith'], ['Quiet Songs', 'Aisha Duo'], ['Jagged Little Pill', 'Alanis Morissette'], ['Adorate Deum: Gregorian Chant from the Proper of the Mass', 'Alberto Turco & Nova Schola Gregoriana'], ['Facelift', 'Alice In Chains'], ['Back to Black', 'Amy Winehouse'], ['Frank', 'Amy Winehouse'], ['Vivaldi: The Four Seasons', 'Anne-Sophie Mutter, Herbert Von Karajan & Wiener Philharmoniker'], [\"Tchaikovsky: 1812 Festival Overture, Op.49, Capriccio Italien & Beethoven: Wellington's Victory\", 'Antal Doráti & London Symphony Orchestra']]\nSUCCESS: sqlite_basic_orm.select.\n[[1, 10], [2, 1], [3, 3], [4, 8], [5, 15], [6, 13], [7, 12], [8, 14], [9, 8], [10, 14], [11, 12], [12, 12], [13, 8], [14, 13], [15, 5], [16, 7], [17, 10], [18, 17], [19, 11], [20, 11], [21, 18], [22, 3], [23, 34], [24, 23], [25, 13], [26, 17], [27, 14], [28, 10], [29, 14], [30, 14], [31, 9], [32, 14], [33, 17], [34, 17], [35, 11], [36, 17], [37, 20], [38, 12], [39, 21], [40, 12], [41, 14], [42, 14], [43, 7], [44, 6], [45, 14], [46, 13], [47, 14], [48, 13], [49, 10], [50, 4], [51, 22], [52, 15], [53, 14], [54, 20], [55, 20], [56, 15], [57, 15], [58, 9], [59, 7], [60, 7], [61, 11], [62, 7], [63, 12], [64, 9], [65, 9], [66, 10], [67, 16], [68, 9], [69, 13], [70, 13], [71, 14], [72, 18], [73, 30], [74, 12], [75, 14], [76, 15], [77, 11], [78, 14], [79, 10], [80, 10], [81, 11], [82, 13], [83, 24], [84, 16], [85, 14], [86, 15], [87, 3], [88, 12], [89, 13], [90, 12], [91, 16], [92, 14], [93, 13], [94, 11], [95, 12], [96, 11], [97, 10], [98, 11], [99, 12], [100, 9], [101, 10], [102, 18], [103, 10], [104, 10], [105, 10], [106, 9], [107, 8], [108, 10], [109, 9], [110, 8], [111, 8], [112, 8], [113, 11], [114, 8], [115, 20], [116, 10], [117, 11], [118, 11], [119, 13], [120, 17], [121, 10], [122, 14], [123, 12], [124, 14], [125, 16], [126, 15], [127, 10], [128, 8], [129, 8], [130, 7], [131, 8], [132, 9], [133, 9], [134, 10], [135, 9], [136, 7], [137, 5], [138, 4], [139, 15], [140, 16], [141, 57], [142, 14], [143, 14], [144, 10], [145, 18], [146, 18], [147, 10], [148, 12], [149, 16], [150, 10], [151, 14], [152, 8], [153, 13], [154, 8], [155, 11], [156, 9], [157, 14], [158, 13], [159, 13], [160, 15], [161, 12], [162, 17], [163, 17], [164, 12], [165, 15], [166, 14], [167, 21], [168, 12], [169, 16], [170, 1], [171, 2], [172, 1], [173, 2], [174, 14], [175, 12], [176, 14], [177, 10], [178, 16], [179, 13], [180, 15], [181, 11], [182, 12], [183, 9], [184, 16], [185, 17], [186, 11], [187, 11], [188, 11], [189, 14], [190, 16], [191, 10], [192, 14], [193, 17], [194, 16], [195, 15], [196, 14], [197, 8], [198, 6], [199, 12], [200, 11], [201, 16], [202, 18], [203, 17], [204, 9], [205, 10], [206, 12], [207, 11], [208, 7], [209, 10], [210, 9], [211, 18], [212, 12], [213, 18], [214, 11], [215, 14], [216, 12], [217, 14], [218, 15], [219, 15], [220, 11], [221, 20], [222, 15], [223, 15], [224, 22], [225, 16], [226, 1], [227, 19], [228, 23], [229, 26], [230, 25], [231, 24], [232, 12], [233, 11], [234, 15], [235, 11], [236, 12], [237, 17], [238, 14], [239, 10], [240, 10], [241, 14], [242, 12], [243, 17], [244, 11], [245, 12], [246, 13], [247, 15], [248, 19], [249, 6], [250, 22], [251, 25], [252, 1], [253, 24], [254, 1], [255, 23], [256, 12], [257, 12], [258, 19], [259, 17], [260, 1], [261, 17], [262, 2], [263, 2], [264, 2], [265, 2], [266, 1], [267, 1], [268, 1], [269, 10], [270, 14], [271, 14], [272, 1], [273, 1], [274, 1], [275, 1], [276, 1], [277, 1], [278, 1], [279, 1], [280, 2], [281, 1], [282, 1], [283, 1], [284, 1], [285, 1], [286, 1], [287, 1], [288, 1], [289, 1], [290, 1], [291, 1], [292, 1], [293, 1], [294, 1], [295, 1], [296, 1], [297, 1], [298, 1], [299, 1], [300, 1], [301, 1], [302, 1], [303, 1], [304, 1], [305, 1], [306, 1], [307, 1], [308, 1], [309, 1], [310, 1], [311, 1], [312, 1], [313, 1], [314, 2], [315, 1], [316, 1], [317, 1], [318, 1], [319, 1], [320, 1], [321, 12], [322, 11], [323, 1], [324, 1], [325, 1], [326, 1], [327, 1], [328, 1], [329, 1], [330, 1], [331, 1], [332, 1], [333, 1], [334, 1], [335, 1], [336, 1], [337, 1], [338, 1], [339, 1], [340, 1], [341, 1], [342, 1], [343, 1], [344, 1], [345, 1], [346, 1], [347, 1]]\nSUCCESS: sqlite_basic_orm.select.\n[2, 1]\nSUCCESS: sqlite_basic_orm.select.\n[1, 2, 3, 4, 5, 6, 7, 8, 9, 10, 11, 12, 13, 14, 15, 16, 17, 18, 19, 20, 21, 22, 23, 24, 25, 26, 27, 28, 29, 30, 31, 32, 33, 34, 35, 36, 37, 38, 39, 40, 41, 42, 43, 44, 45, 46, 47, 48, 49, 50, 51, 52, 53, 54, 55, 56, 57, 58, 59, 60, 61, 62, 63, 64, 65, 66, 67, 68, 69, 70, 71, 72, 73, 74, 75, 76, 77, 78, 79, 80, 81, 82, 83, 84, 85, 86, 87, 88, 89, 90, 91, 92, 93, 94, 95, 96, 97, 98, 99, 100, 101, 102, 103, 104, 105, 106, 107, 108, 109, 110, 111, 112, 113, 114, 115, 116, 117, 118, 119, 120, 121, 122, 123, 124, 125, 126, 127, 128, 129, 130, 131, 132, 133, 134, 135, 136, 137, 138, 139, 140, 141, 142, 143, 144, 145, 146, 147, 148, 149, 150, 151, 152, 153, 154, 155, 156, 157, 158, 159, 160, 161, 162, 163, 164, 165, 166, 167, 168, 169, 170, 171, 172, 173, 174, 175, 176, 177, 178, 179, 180, 181, 182, 183, 184, 185, 186, 187, 188, 189, 190, 191, 192, 193, 194, 195, 196, 197, 198, 199, 200, 201, 202, 203, 204, 205, 206, 207, 208, 209, 210, 211, 212, 213, 214, 215, 216, 217, 218, 219, 220, 221, 222, 223, 224, 225, 226, 227, 228, 229, 230, 231, 232, 233, 234, 235, 236, 237, 238, 239, 240, 241, 242, 243, 244, 245, 246, 247, 248, 249, 250, 251, 252, 253, 254, 255, 256, 257, 258, 259, 260, 261, 262, 263, 264, 265, 266, 267, 268, 269, 270, 271, 272, 273, 274, 275, 276, 277, 278, 279, 280, 281, 282, 283, 284, 285, 286, 287, 288, 289, 290, 291, 292, 293, 294, 295, 296, 297, 298, 299, 300, 301, 302, 303, 304, 305, 306, 307, 308, 309, 310, 311, 312, 313, 314, 315, 316, 317, 318, 319, 320, 321, 322, 323, 324, 325, 326, 327, 328, 329, 330, 331, 332, 333, 334, 335, 336, 337, 338, 339, 340, 341, 342, 343, 344, 345, 346, 347]\n"
     ]
    }
   ],
   "source": [
    "# select test - misc\n",
    "print('--report')\n",
    "print(db.sqlite_select('albums', '*', limit_offset=5, prettify_output=True, print_report=False))\n",
    "print(db.sqlite_select('albums', '*', limit_offset=5, prettify_output=True, print_report=True))\n",
    "print('--prettify')\n",
    "print(db.sqlite_select('albums', '*', limit_offset=5, prettify_output=False, print_report=False))\n",
    "print(db.sqlite_select('albums', '*', limit_offset=5, prettify_output=True, print_report=False))\n",
    "print(db.sqlite_select('albums', '*', limit_offset=1, prettify_output=False, print_report=False))\n",
    "print(db.sqlite_select('albums', '*', limit_offset=1, prettify_output=True, print_report=False))\n",
    "print('--to list')\n",
    "print(db.sqlite_select('albums', '*', limit_offset=5, return_list = False, prettify_output=False, print_report=False))\n",
    "print(db.sqlite_select('albums', '*', limit_offset=5, return_list = True, prettify_output=True, print_report=False))\n",
    "print(db.sqlite_select('albums', '*', limit_offset=1, return_list = False, prettify_output=False, print_report=False))\n",
    "print(db.sqlite_select('albums', '*', limit_offset=1, return_list = True, prettify_output=True, print_report=False))\n",
    "print('-misc')\n",
    "print(db.sqlite_select('artists', limit_offset=[3,5]))\n",
    "print(db.sqlite_select('artists', ['title','name'], distinct=True, join=['INNER','no_table', 'artists.ArtistID = albums.ArtistID'],order_by='name'))\n",
    "print(db.sqlite_select('artists', ['title','name'], distinct=True, join=['INNER','albums', 'artists.ArtistID = albums.ArtistID'],order_by='name', limit_offset=[10,10]))\n",
    "print(db.sqlite_select('tracks',['albumid', 'COUNT(trackid)'],group_by='albumid'))\n",
    "print(db.sqlite_select('tracks',['albumid', 'COUNT(trackid)'],where='albumid = 2'))\n",
    "print(db.sqlite_select('tracks',['albumid'],distinct=True))"
   ]
  },
  {
   "cell_type": "code",
   "execution_count": 21,
   "metadata": {},
   "outputs": [
    {
     "output_type": "stream",
     "name": "stdout",
     "text": [
      "ERROR: sqlite_basic_orm.count_rows. no such table: no_table\n",
      "ERROR: sqlite_basic_orm.delete. no such table: no_table\n",
      "\n",
      "Check statement:\n",
      "----------------\n",
      "DELETE FROM no_table\n",
      "WHERE col1 = 3;\n",
      "SUCCESS: sqlite_basic_orm.create_table.\n",
      "SUCCESS: sqlite_basic_orm.remove. Removed rows: 0\n",
      "SUCCESS: sqlite_basic_orm.insert. Added rows: 3/3\n",
      "ERROR: sqlite_basic_orm.count_rows. near \"syntax\": syntax error\n",
      "ERROR: sqlite_basic_orm.delete. near \"syntax\": syntax error\n",
      "\n",
      "Check statement:\n",
      "----------------\n",
      "DELETE FROM del\n",
      "WHERE bad syntax;\n",
      "SUCCESS: sqlite_basic_orm.select.\n",
      "[['a', 1], ['b', 2], ['c', 1]]\n",
      "SUCCESS: sqlite_basic_orm.remove. Removed rows: 2\n",
      "SUCCESS: sqlite_basic_orm.select.\n",
      "['b', 2]\n"
     ]
    }
   ],
   "source": [
    "# delete test - misc\n",
    "db_t.sqlite_delete('no_table','col1 = 3') # forced ERROR\n",
    "db_t.sqlite_create_table('del',['col1 TEXT', 'col2 INTEGER'])\n",
    "db_t.sqlite_delete('del','col2 = 0') \n",
    "db_t.sqlite_insert('del', ['col1', 'col2'],[['a',1],['b',2],['c',1]]) \n",
    "db_t.sqlite_delete('del','bad syntax') # forced ERROR\n",
    "print(db_t.sqlite_select('del'))\n",
    "db_t.sqlite_delete('del','col2 = 1') \n",
    "print(db_t.sqlite_select('del'))"
   ]
  },
  {
   "cell_type": "code",
   "execution_count": 22,
   "metadata": {},
   "outputs": [
    {
     "output_type": "stream",
     "name": "stdout",
     "text": [
      "ERROR: sqlite_basic_orm.count_rows. no such table: no_table\n",
      "ERROR: sqlite_basic_orm.update. no such table: no_table\n",
      "\n",
      "Check statement:\n",
      "----------------\n",
      "UPDATE no_table\n",
      "SET col2 = ?\n",
      "WHERE col1 = 3;\n",
      "SUCCESS: sqlite_basic_orm.create_table.\n",
      "ERROR: sqlite_basic_orm.count_rows. near \"3\": syntax error\n",
      "ERROR: sqlite_basic_orm.update. near \"3\": syntax error\n",
      "\n",
      "Check statement:\n",
      "----------------\n",
      "UPDATE upd\n",
      "SET col1 = ?\n",
      "WHERE col2 3;\n",
      "SUCCESS: sqlite_basic_orm.insert. Added rows: 4/4\n",
      "SUCCESS: sqlite_basic_orm.select.\n",
      "[['a', 1], ['b', 1], ['c', 2], ['d', 3]]\n",
      "SUCCESS: sqlite_basic_orm.insert. Updated rows: 1\n",
      "SUCCESS: sqlite_basic_orm.insert. Updated rows: 2\n",
      "SUCCESS: sqlite_basic_orm.insert. Updated rows: 1\n",
      "SUCCESS: sqlite_basic_orm.select.\n",
      "[['CDE', 1], ['CDE', 1], ['ABC', 2], ['FGH', 100]]\n"
     ]
    }
   ],
   "source": [
    "# update test - misc\n",
    "db_t.sqlite_update('no_table','col2', 3, 'col1 = 3') # forced ERROR\n",
    "db_t.sqlite_create_table('upd',['col1 TEXT', 'col2 INTEGER'])\n",
    "db_t.sqlite_update('upd','col1', 'ABC', 'col2 3') # forced ERROR\n",
    "db_t.sqlite_insert('upd',['col1','col2'],[['a',1], ['b',1], ['c',2], ['d',3]])\n",
    "print(db_t.sqlite_select('upd'))\n",
    "db_t.sqlite_update('upd','col1', ['ABC'], 'col2 = 2')\n",
    "db_t.sqlite_update('upd','col1','CDE','col2 = 1')\n",
    "db_t.sqlite_update('upd',['col1','col2'],['FGH', 100], 'col2 = 3')\n",
    "print(db_t.sqlite_select('upd'))"
   ]
  },
  {
   "cell_type": "code",
   "execution_count": 23,
   "metadata": {},
   "outputs": [
    {
     "output_type": "stream",
     "name": "stdout",
     "text": [
      "SUCCESS: sqlite_basic_orm.create_table.\n",
      "CREATE TABLE context (col1 INTEGER PRIMARY KEY AUTOINCREMENT,\n",
      "\tcol2 TEXT\n",
      ")\n",
      "SUCCESS: Column(s) in context was added: ['col3 TEXT', 'col4 INTEGER']\n",
      "CREATE TABLE context (col1 INTEGER PRIMARY KEY AUTOINCREMENT,\n",
      "\tcol2 TEXT\n",
      ", col3 TEXT, col4 INTEGER)\n",
      "SUCCESS: sqlite_basic_orm.insert. Added rows: 4/4\n",
      "SUCCESS: sqlite_basic_orm.select.\n",
      "[[1, 'a', None, None], [2, 'b', None, None], [3, 'c', None, None], [4, 'd', None, None]]\n",
      "SUCCESS: sqlite_basic_orm.insert. Updated rows: 1\n",
      "SUCCESS: sqlite_basic_orm.select.\n",
      "[[1, 'a', None, None], [2, 'b', None, None], [3, 'c', 'z', 0], [4, 'd', None, None]]\n",
      "SUCCESS: sqlite_basic_orm.remove. Removed rows: 1\n",
      "SUCCESS: sqlite_basic_orm.select.\n",
      "[[1, 'a', None, None], [2, 'b', None, None], [4, 'd', None, None]]\n"
     ]
    }
   ],
   "source": [
    "# context test\n",
    "with sqlite_basic_orm.SQLiteContextDB('./db_files/context.db') as db_t2:\n",
    "    db_t2.sqlite_create_table('context',['col1 INTEGER PRIMARY KEY AUTOINCREMENT', 'col2 TEXT'])\n",
    "    print(db_t2.sqlite_schema('context'))\n",
    "    db_t2.sqlite_add_column('context',['col3 TEXT', 'col4 INTEGER'])\n",
    "    print(db_t2.sqlite_schema('context'))\n",
    "    db_t2.sqlite_insert('context', ['col2'],['a','b','c','d'])\n",
    "    print(db_t2.sqlite_select('context'))\n",
    "    db_t2.sqlite_update('context',['col3','col4'],['z',0],'col2 = \\'c\\'')\n",
    "    print(db_t2.sqlite_select('context'))\n",
    "    db_t2.sqlite_delete('context','col1 = 3')\n",
    "    print(db_t2.sqlite_select('context'))"
   ]
  },
  {
   "cell_type": "code",
   "execution_count": 24,
   "metadata": {},
   "outputs": [
    {
     "output_type": "stream",
     "name": "stdout",
     "text": [
      "SUCCESS: sqlite_basic_orm.select.\n",
      "[] \n",
      "\n",
      "SUCCESS: sqlite_basic_orm.insert. Added rows: 4/4\n",
      "SUCCESS: sqlite_basic_orm.select.\n",
      "['a', 'b', 'c', 'a'] \n",
      "\n",
      "SUCCESS: sqlite_basic_orm.insert. Updated rows: 2\n",
      "SUCCESS: sqlite_basic_orm.select.\n",
      "['z', 'b', 'c', 'z'] \n",
      "\n",
      "SUCCESS: sqlite_basic_orm.select.\n",
      "['b', 2] \n",
      "\n",
      "SUCCESS: sqlite_basic_orm.insert. Added rows: 4/4\n",
      "SUCCESS: sqlite_basic_orm.select.\n",
      "[['b', 2], ['a', 1], ['b', 2], ['c', 3], ['a', 3]] \n",
      "\n",
      "SUCCESS: sqlite_basic_orm.insert. Updated rows: 2\n",
      "SUCCESS: sqlite_basic_orm.select.\n",
      "[['b', 2], ['a', 1], ['b', 2], ['z', 0], ['z', 0]] \n",
      "\n"
     ]
    }
   ],
   "source": [
    "# using * in insert & update\n",
    "print(db_t.sqlite_select('new2'), '\\n')\n",
    "db_t.sqlite_insert('new2','*',['a','b','c','a'])\n",
    "print(db_t.sqlite_select('new2'), '\\n')\n",
    "db_t.sqlite_update('new2', '*', 'z', 'col = \\'a\\'')\n",
    "print(db_t.sqlite_select('new2'), '\\n')\n",
    "\n",
    "print(db_t.sqlite_select('del'), '\\n')\n",
    "db_t.sqlite_insert('del','*',[['a',1],['b',2],['c',3],['a',3]])\n",
    "print(db_t.sqlite_select('del'), '\\n')\n",
    "db_t.sqlite_update('del', '*', ['z',0], 'col2 = 3')\n",
    "print(db_t.sqlite_select('del'), '\\n')"
   ]
  }
 ]
}